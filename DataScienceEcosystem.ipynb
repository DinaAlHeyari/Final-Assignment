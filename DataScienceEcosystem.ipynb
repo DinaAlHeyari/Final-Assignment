{
 "cells": [
  {
   "cell_type": "markdown",
   "id": "be6cb9dd",
   "metadata": {},
   "source": [
    "# Data Science Tools and Ecosystem"
   ]
  },
  {
   "cell_type": "markdown",
   "id": "aa6aba65",
   "metadata": {},
   "source": [
    "## In this notebook, Data Science Tools and Ecosystem are summarized."
   ]
  },
  {
   "cell_type": "markdown",
   "id": "6d805680",
   "metadata": {},
   "source": [
    "**Objectives:**\n",
    "- list most common languages in data science\n",
    "- list most common used libraries by data scientists\n",
    "- create a table listing the open source development environment \n",
    "- give an example of arithmetic expressions in Python\n"
   ]
  },
  {
   "cell_type": "markdown",
   "id": "5f981f85",
   "metadata": {},
   "source": [
    "### Some of the popular languages that Data Scientists use are:\n",
    "1. Python\n",
    "2. R\n",
    "3. Scala\n",
    "4. SQL\n",
    "5. Java\n"
   ]
  },
  {
   "cell_type": "markdown",
   "id": "0a7508ea",
   "metadata": {},
   "source": [
    "### Some of the commonly used libraries used by Data Scientists include:\n",
    "1. Pandas\n",
    "2. NumPy\n",
    "3. SciPy\n",
    "4. TensorFlow"
   ]
  },
  {
   "cell_type": "markdown",
   "id": "c806abdf",
   "metadata": {},
   "source": [
    "| Data Science Tools |\n",
    "| ------------------ |\n",
    "| Jupyter Notebook   |  \n",
    "| RStudio            |\n",
    "| Ray                | \n",
    "| Apache Spark       |\n",
    "|IBM Watson Studio   |"
   ]
  },
  {
   "cell_type": "markdown",
   "id": "3184ecea",
   "metadata": {},
   "source": [
    "### Below are a few examples of evaluating arithmetic expressions in Python:\n"
   ]
  },
  {
   "cell_type": "code",
   "execution_count": 1,
   "id": "1b4d25dc",
   "metadata": {},
   "outputs": [
    {
     "data": {
      "text/plain": [
       "17"
      ]
     },
     "execution_count": 1,
     "metadata": {},
     "output_type": "execute_result"
    }
   ],
   "source": [
    "# This a simple arithmetic expression to mutiply then add integers\n",
    "(3*4)+5"
   ]
  },
  {
   "cell_type": "code",
   "execution_count": 2,
   "id": "a6dcd278",
   "metadata": {},
   "outputs": [
    {
     "name": "stdout",
     "output_type": "stream",
     "text": [
      "3.3333333333333335\n"
     ]
    }
   ],
   "source": [
    "# This will convert 200 minutes to hours by diving by 60\n",
    "x = 200 # minutes\n",
    "y = 200/60 \n",
    "print(y)"
   ]
  },
  {
   "cell_type": "markdown",
   "id": "6759329a",
   "metadata": {},
   "source": [
    "## Author:\n",
    "Dina Al-Heyari"
   ]
  },
  {
   "cell_type": "code",
   "execution_count": null,
   "id": "d64ca6ff",
   "metadata": {},
   "outputs": [],
   "source": []
  }
 ],
 "metadata": {
  "kernelspec": {
   "display_name": "Python 3 (ipykernel)",
   "language": "python",
   "name": "python3"
  },
  "language_info": {
   "codemirror_mode": {
    "name": "ipython",
    "version": 3
   },
   "file_extension": ".py",
   "mimetype": "text/x-python",
   "name": "python",
   "nbconvert_exporter": "python",
   "pygments_lexer": "ipython3",
   "version": "3.11.5"
  }
 },
 "nbformat": 4,
 "nbformat_minor": 5
}
